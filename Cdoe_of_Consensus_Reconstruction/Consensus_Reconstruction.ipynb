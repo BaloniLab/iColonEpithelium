{
 "cells": [
  {
   "cell_type": "code",
   "execution_count": null,
   "metadata": {},
   "outputs": [],
   "source": [
    "import cobra\n",
    "from cobra.io import read_sbml_model, write_sbml_model\n",
    "from cobra.flux_analysis import fastcc\n",
    "from cobra.flux_analysis import flux_variability_analysis\n",
    "from cobra.flux_analysis import  find_blocked_reactions\n",
    "import itertools as it\n",
    "import csv\n",
    "import os\n",
    "import re"
   ]
  },
  {
   "cell_type": "code",
   "execution_count": null,
   "metadata": {},
   "outputs": [],
   "source": [
    "# load draft reconstructions\n",
    "reconstruction_imat = read_sbml_model('/home/jiang817/cybergut_project/Gapfilling/fastcc_outputs/reconstruction_iMAT_fastcc.xml')\n",
    "reconstruction_tinit = read_sbml_model('/home/jiang817/cybergut_project/Gapfilling/fastcc_outputs/reconstruction_tINIT_fastcc.xml')\n",
    "reconstruction_CORDA = read_sbml_model('/home/jiang817/cybergut_project/Gapfilling/fastcc_outputs/reconstruction_CORDA_fastcc.xml')\n",
    "reconstruction_pymcadre = read_sbml_model('/home/jiang817/cybergut_project/Gapfilling/fastcc_outputs/reconstruction_pymcadre_fastcc.xml')"
   ]
  },
  {
   "cell_type": "code",
   "execution_count": null,
   "metadata": {},
   "outputs": [],
   "source": [
    "# Extract info of reactions\n",
    "rxn_i = [reconstruction_imat.reactions[i].id for i in range(len(reconstruction_imat.reactions))]\n",
    "rxn_t = [reconstruction_tinit.reactions[i].id for i in range(len(reconstruction_tinit.reactions))]\n",
    "rxn_c = [reconstruction_CORDA.reactions[i].id for i in range(len(reconstruction_CORDA.reactions))]\n",
    "rxn_p = [reconstruction_pymcadre.reactions[i].id for i in range(len(reconstruction_pymcadre.reactions))]"
   ]
  },
  {
   "cell_type": "code",
   "execution_count": null,
   "metadata": {},
   "outputs": [],
   "source": [
    "# obtain all reactions in the four draft reconstruction\n",
    "all_rxn = set(rxn_t) | set(rxn_i) | set(rxn_c) | set(rxn_p)\n"
   ]
  },
  {
   "cell_type": "code",
   "execution_count": null,
   "metadata": {},
   "outputs": [],
   "source": [
    "# Obtain reactions unique in tINIT draft reconstruction\n",
    "tINIT_U = set(rxn_t) - set(rxn_i)-set(rxn_c)-set(rxn_p)\n",
    "len(tINIT_U)"
   ]
  },
  {
   "cell_type": "code",
   "execution_count": null,
   "metadata": {},
   "outputs": [],
   "source": [
    "# Reomve reactions unique to tINIT from all reactions\n",
    "consensus_rxn = all_rxn - tINIT_U\n",
    "len(consensus_rxn)"
   ]
  },
  {
   "cell_type": "code",
   "execution_count": null,
   "metadata": {},
   "outputs": [],
   "source": [
    "General_model = read_sbml_model('/home/jiang817/cybergut_project/General_models/Recon3D.xml')\n",
    "for i in range (len(General_model.reactions)):\n",
    "    if General_model.reactions[i].id.startswith('EX_'):\n",
    "        General_model.reactions[i].bounds = (-100, 100)"
   ]
  },
  {
   "cell_type": "code",
   "execution_count": null,
   "metadata": {},
   "outputs": [],
   "source": [
    "consensus_reconstruction  = cobra.Model('Consensus Reconstruction')"
   ]
  },
  {
   "cell_type": "code",
   "execution_count": null,
   "metadata": {},
   "outputs": [],
   "source": [
    "for i in consensus_rxn:\n",
    "    consensus_reconstruction.add_reactions([General_model.reactions.get_by_id(i)])"
   ]
  },
  {
   "cell_type": "code",
   "execution_count": null,
   "metadata": {},
   "outputs": [],
   "source": [
    "write_sbml_model(consensus_reconstruction, '/home/jiang817/cybergut_project/Consistent_Reconstruction/consensus_reconstruction.xml')"
   ]
  },
  {
   "cell_type": "code",
   "execution_count": null,
   "metadata": {},
   "outputs": [],
   "source": [
    "# fastcc test\n",
    "consensus_reconstruction_fastcc = fastcc(consensus_reconstruction)"
   ]
  },
  {
   "cell_type": "code",
   "execution_count": null,
   "metadata": {},
   "outputs": [],
   "source": [
    "write_sbml_model(consensus_reconstruction_fastcc, '/home/jiang817/cybergut_project/Gapfilling/fastcc_outputs/consensus_reconstruction_fastcc.xml')"
   ]
  }
 ],
 "metadata": {
  "language_info": {
   "name": "python"
  },
  "orig_nbformat": 4
 },
 "nbformat": 4,
 "nbformat_minor": 2
}
