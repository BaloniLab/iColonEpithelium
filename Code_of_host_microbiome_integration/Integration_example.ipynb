{
 "cells": [
  {
   "cell_type": "markdown",
   "metadata": {},
   "source": [
    "# icolonEpithelium and gut microbiome integration example"
   ]
  },
  {
   "cell_type": "code",
   "execution_count": null,
   "metadata": {},
   "outputs": [],
   "source": [
    "import os\n",
    "import pickle\n",
    "import numpy as np\n",
    "import pandas as pd\n"
   ]
  },
  {
   "cell_type": "code",
   "execution_count": null,
   "metadata": {},
   "outputs": [],
   "source": [
    "os.environ['GUROBI_HOME'] = \"gurobi_license\"\n",
    "os.environ['GRB_LICENSE_FILE'] = \"gurobi.lic\""
   ]
  },
  {
   "cell_type": "code",
   "execution_count": null,
   "metadata": {},
   "outputs": [],
   "source": [
    "from micom.util import load_model\n",
    "\n",
    "colon = load_model(\"iColonEpithelium_vhm.xml\")\n",
    "colon.compartments"
   ]
  },
  {
   "cell_type": "code",
   "execution_count": null,
   "metadata": {},
   "outputs": [],
   "source": [
    "colon_constraints = pd.read_excel('refined_medium_input.xlsx', 'Sink')"
   ]
  },
  {
   "cell_type": "markdown",
   "metadata": {},
   "source": [
    "We will first make the medium very limited from the blood side by only allowing oxygen influx and will reset the objective to the maintenance function.\n"
   ]
  },
  {
   "cell_type": "code",
   "execution_count": null,
   "metadata": {},
   "outputs": [],
   "source": [
    "colon_micom = colon.copy()\n",
    "\n",
    "colon_micom.objective = colon_micom.reactions.biomass_maintenance\n",
    "for i in range(len(colon_constraints)):\n",
    "    sink_rxn = colon_constraints.loc[i]['Sink_reactions']\n",
    "    ub = colon_constraints.loc[i]['Upper_boundary']\n",
    "    lb = colon_constraints.loc[i]['Lower_boundary']\n",
    "    print(\"(\", lb, ',', ub, \")\")\n",
    "    if lb == 0:\n",
    "        \n",
    "        colon.reactions.get_by_id(sink_rxn).bounds = (lb, ub)\n",
    "    else:\n",
    "        colon.reactions.get_by_id(sink_rxn).bounds = (-0.1, ub)\n",
    "#colon_micom.reactions.get_by_id('EX_ppa[e]').bounds = (0, 100)\n",
    "colon_micom.reactions.get_by_id('EX_co2[lu]').bounds = (0, 100) \n",
    "colon_micom.reactions.get_by_id('EX_co2[e]').bounds = (0, 100)  \n",
    "colon_micom.summary()"
   ]
  },
  {
   "cell_type": "code",
   "execution_count": 7,
   "metadata": {},
   "outputs": [],
   "source": [
    "colon_micom.medium = {\"EX_o2[e]\": 100}"
   ]
  },
  {
   "cell_type": "markdown",
   "metadata": {},
   "source": [
    "Now we read a MICOM model for a healthy individual."
   ]
  },
  {
   "cell_type": "code",
   "execution_count": null,
   "metadata": {
    "scrolled": true
   },
   "outputs": [],
   "source": [
    "from micom.util import load_pickle  \n",
    "\n",
    "com = load_pickle(\"ERR1883195.pickle\")\n",
    "com.taxa"
   ]
  },
  {
   "cell_type": "markdown",
   "metadata": {},
   "source": [
    "Before we add the host we will add some coupling constraints for the taxa that ensures that flux can only take place if the taxa grow. That will, for instance, avoid butyrate production from taxa that don't grow. We use a combination of [resource constraints](https://pubmed.ncbi.nlm.nih.gov/34990848/) and [biomass coupling](https://pmc.ncbi.nlm.nih.gov/articles/PMC3555882/#sec14) to get a resource coupling in the form of:\n",
    "\n",
    "$$\n",
    "\\sum_i |v_i| < \\mu \\cdot M\n",
    "$$\n",
    "\n",
    "for each taxon."
   ]
  },
  {
   "cell_type": "code",
   "execution_count": 9,
   "metadata": {},
   "outputs": [],
   "source": [
    "com.add_coupling_constraints(strategy=\"resource coupling\", constraint=400)"
   ]
  },
  {
   "cell_type": "markdown",
   "metadata": {},
   "source": [
    "We use a new function in the a developing version of MICOM to combine the MICOM model with the iColonEpithelium "
   ]
  },
  {
   "cell_type": "code",
   "execution_count": null,
   "metadata": {
    "scrolled": true
   },
   "outputs": [],
   "source": [
    "com.add_host(\n",
    "    model=colon_micom,\n",
    "    id=\"colon\",\n",
    "    shared_compartment=\"lu\",\n",
    "    own_compartment=\"e\",\n",
    "    abundance=1\n",
    ")"
   ]
  },
  {
   "cell_type": "markdown",
   "metadata": {},
   "source": [
    "We apply the average europen diet medium to the model."
   ]
  },
  {
   "cell_type": "code",
   "execution_count": null,
   "metadata": {},
   "outputs": [],
   "source": [
    "import micom as mm\n",
    "med = mm.qiime_formats.load_qiime_medium(\"western_diet_gut_agora.qza\")\n",
    "com.medium = med.flux"
   ]
  },
  {
   "cell_type": "markdown",
   "metadata": {},
   "source": [
    "Now including the host in the cooperative tradeoff funtion of MICOM. Here we set the tradeoff to 0.5 for the microbes and fix the host maintenance at 1."
   ]
  },
  {
   "cell_type": "code",
   "execution_count": null,
   "metadata": {},
   "outputs": [],
   "source": [
    "sol = com.cooperative_tradeoff(min_growth={\"colon\": 1}, fraction=0.5, fluxes=True)"
   ]
  },
  {
   "cell_type": "code",
   "execution_count": null,
   "metadata": {},
   "outputs": [],
   "source": [
    "# Check the abundance and growth rate of the model\n",
    "sol.members"
   ]
  },
  {
   "cell_type": "markdown",
   "metadata": {},
   "source": [
    "let's check butyrate fluxes in the two solutions."
   ]
  },
  {
   "cell_type": "code",
   "execution_count": null,
   "metadata": {},
   "outputs": [],
   "source": [
    "from micom.workflows.results import GrowthResults\n",
    "\n",
    "res = GrowthResults.from_solution(sol, com)"
   ]
  },
  {
   "cell_type": "code",
   "execution_count": null,
   "metadata": {},
   "outputs": [],
   "source": [
    "res.exchanges[res.exchanges.metabolite == \"but[e]\"]"
   ]
  },
  {
   "cell_type": "markdown",
   "metadata": {},
   "source": [
    "We can chekc also what is passed to the host."
   ]
  },
  {
   "cell_type": "code",
   "execution_count": null,
   "metadata": {
    "scrolled": true
   },
   "outputs": [],
   "source": [
    "res.exchanges[res.exchanges.taxon == \"colon\"].sort_values(\"flux\")"
   ]
  },
  {
   "cell_type": "markdown",
   "metadata": {},
   "source": [
    "Butyrate balance:"
   ]
  },
  {
   "cell_type": "code",
   "execution_count": null,
   "metadata": {},
   "outputs": [],
   "source": [
    "res.exchanges[res.exchanges.metabolite.str.startswith(\"but\")]"
   ]
  },
  {
   "cell_type": "markdown",
   "metadata": {},
   "source": [
    "We can also calculate the ratio of butyrate taken up by the host."
   ]
  },
  {
   "cell_type": "code",
   "execution_count": null,
   "metadata": {},
   "outputs": [],
   "source": [
    "def butyrate_host_ratio(sol):\n",
    "    \"\"\"The ratio of butyrate taken up by the host.\"\"\"\n",
    "    but = sol.exchanges[sol.exchanges.metabolite.str.startswith(\"but[\")]\n",
    "    total = but[(but.metabolite == \"but[e]\") & (but.direction == \"export\")]\n",
    "    total = (total.abundance * total.flux).sum()\n",
    "    host = but[but.taxon == \"colon\"].flux.abs()\n",
    "    return host.sum() / total\n",
    "\n",
    "def butyrate_host_abs(sol):\n",
    "    \"\"\"The ratio of butyrate taken up by the host.\"\"\"\n",
    "    but = sol.exchanges[sol.exchanges.metabolite.str.startswith(\"but[\")]\n",
    "    total = but[(but.metabolite == \"but[e]\") & (but.direction == \"export\")]\n",
    "    total = (total.abundance * total.flux).sum()\n",
    "    host = but[but.taxon == \"colon\"].flux.abs()\n",
    "    return host\n",
    "\n",
    "for r in [res]:\n",
    "    print(f\"Ratio is: {100 * butyrate_host_ratio(r):.3f}%.\")\n",
    "    print(\"Abs is:\", butyrate_host_abs(r))"
   ]
  },
  {
   "cell_type": "code",
   "execution_count": null,
   "metadata": {},
   "outputs": [],
   "source": [
    "def acetate_host_ratio(sol):\n",
    "    \"\"\"The ratio of acetate taken up by the host.\"\"\"\n",
    "    ac = sol.exchanges[sol.exchanges.metabolite.str.startswith(\"ac[\")]\n",
    "    total = ac[(ac.metabolite == \"ac[e]\") & (ac.direction == \"export\")]\n",
    "    total = (total.abundance * total.flux).sum()\n",
    "    host = ac[ac.taxon == \"colon\"].flux.abs()\n",
    "    return host.sum() / total\n",
    "\n",
    "def acetate_host_abs(sol):\n",
    "    \"\"\"The ratio of acetate taken up by the host.\"\"\"\n",
    "    ac = sol.exchanges[sol.exchanges.metabolite.str.startswith(\"ac[\")]\n",
    "    total = ac[(ac.metabolite == \"ac[e]\") & (ac.direction == \"export\")]\n",
    "    total = (total.abundance * total.flux).sum()\n",
    "    host = ac[ac.taxon == \"colon\"].flux.abs()\n",
    "    return host\n",
    "\n",
    "for r in [res]:\n",
    "    print(f\"Ratio is: {100 * acetate_host_ratio(r):.3f}%.\")\n",
    "    print(\"Abs is:\", acetate_host_abs(r))"
   ]
  },
  {
   "cell_type": "code",
   "execution_count": null,
   "metadata": {},
   "outputs": [],
   "source": [
    "def propionate_host_ratio(sol):\n",
    "    \"\"\"The ratio of propionate taken up by the host.\"\"\"\n",
    "    ppa = sol.exchanges[sol.exchanges.metabolite.str.startswith(\"ppa[\")]\n",
    "    total = ppa[(ppa.metabolite == \"ppa[e]\") & (ppa.direction == \"export\")]\n",
    "    total = (total.abundance * total.flux).sum()\n",
    "    host = ppa[ppa.taxon == \"colon\"].flux.abs()\n",
    "    return host.sum() / total\n",
    "\n",
    "def propionate_host_abs(sol):\n",
    "    \"\"\"The ratio of propionate taken up by the host.\"\"\"\n",
    "    ppa = sol.exchanges[sol.exchanges.metabolite.str.startswith(\"ppa[\")]\n",
    "    total = ppa[(ppa.metabolite == \"ppa[e]\") & (ppa.direction == \"export\")]\n",
    "    total = (total.abundance * total.flux).sum()\n",
    "    host = ppa[ppa.taxon == \"colon\"].flux.abs()\n",
    "    return host.sum() / total\n",
    "\n",
    "for r in [res]:\n",
    "    print(f\"Ratio is: {100 * propionate_host_ratio(r):.3f}%.\")\n",
    "    print(\"Abs is:\", propionate_host_abs(r))"
   ]
  }
 ],
 "metadata": {
  "kernelspec": {
   "display_name": "BaloniLab_py10",
   "language": "python",
   "name": "balonilab_py10"
  },
  "language_info": {
   "codemirror_mode": {
    "name": "ipython",
    "version": 3
   },
   "file_extension": ".py",
   "mimetype": "text/x-python",
   "name": "python",
   "nbconvert_exporter": "python",
   "pygments_lexer": "ipython3",
   "version": "3.10.15"
  }
 },
 "nbformat": 4,
 "nbformat_minor": 2
}
